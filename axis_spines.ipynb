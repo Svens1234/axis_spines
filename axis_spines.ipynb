{
 "cells": [
  {
   "cell_type": "code",
   "execution_count": 1,
   "id": "c61eff5e",
   "metadata": {},
   "outputs": [],
   "source": [
    "import numpy as np\n",
    "import pandas as pd\n",
    "import matplotlib.pyplot as plt\n",
    "import seaborn as sns"
   ]
  },
  {
   "cell_type": "code",
   "execution_count": 2,
   "id": "823b8ffd",
   "metadata": {},
   "outputs": [],
   "source": [
    "x=np.linspace(0,11,10)"
   ]
  },
  {
   "cell_type": "code",
   "execution_count": 7,
   "id": "7fe44dc3",
   "metadata": {},
   "outputs": [
    {
     "data": {
      "image/png": "[encoded data removed]",
      "text/plain": [
       "<Figure size 432x144 with 1 Axes>"
      ]
     },
     "metadata": {
      "needs_background": "light"
     },
     "output_type": "display_data"
    }
   ],
   "source": [
    "fig, ax = plt.subplots(figsize=(6,2))\n",
    "\n",
    "ax.spines['bottom'].set_color('blue')\n",
    "ax.spines['top'].set_color('blue')\n",
    "\n",
    "ax.spines['left'].set_color('red')\n",
    "ax.spines['left'].set_linewidth(2)\n",
    "\n",
    "# turn off axis spine to the right\n",
    "ax.spines['right'].set_color(\"none\")\n",
    "ax.yaxis.tick_left() # only ticks on the left side"
   ]
  },
  {
   "cell_type": "code",
   "execution_count": null,
   "id": "4f1a2625",
   "metadata": {},
   "outputs": [],
   "source": []
  }
 ],
 "metadata": {
  "kernelspec": {
   "display_name": "Python 3 (ipykernel)",
   "language": "python",
   "name": "python3"
  },
  "language_info": {
   "codemirror_mode": {
    "name": "ipython",
    "version": 3
   },
   "file_extension": ".py",
   "mimetype": "text/x-python",
   "name": "python",
   "nbconvert_exporter": "python",
   "pygments_lexer": "ipython3",
   "version": "3.8.7"
  }
 },
 "nbformat": 4,
 "nbformat_minor": 5
}
